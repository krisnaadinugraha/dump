{
 "cells": [
  {
   "cell_type": "code",
   "execution_count": 1,
   "id": "5c192d00-712f-4ea8-8e5e-84581b47098b",
   "metadata": {},
   "outputs": [],
   "source": [
    "import numpy as np\n",
    "import pandas as pd\n",
    "from keras.preprocessing.image import ImageDataGenerator\n",
    "import os\n",
    "import random \n",
    "import cv2\n",
    "import imutils\n",
    "import random\n",
    "import matplotlib.pyplot as plt\n",
    "import seaborn as sns\n",
    "from sklearn.preprocessing import LabelBinarizer\n",
    "from keras.utils import np_utils\n",
    "from keras.models import Sequential\n",
    "from keras import optimizers\n",
    "from sklearn.preprocessing import LabelBinarizer\n",
    "from keras import backend as K\n",
    "from keras.layers import Dense, Activation, Flatten, Dense,MaxPooling2D, Dropout\n",
    "from keras.layers import Conv2D, MaxPooling2D, BatchNormalization"
   ]
  },
  {
   "cell_type": "code",
   "execution_count": 2,
   "id": "aee70a2b-95a6-4f72-ad0b-c8af5a785223",
   "metadata": {},
   "outputs": [],
   "source": [
    "dir = \"Train/\"\n",
    "train_data = []\n",
    "img_size = 32\n",
    "non_chars = [\"#\",\"$\",\"&\",\"@\"]\n",
    "for i in os.listdir(dir):\n",
    "    if i in non_chars:\n",
    "        continue\n",
    "    count = 0\n",
    "    sub_directory = os.path.join(dir,i)\n",
    "    image_list = os.listdir(sub_directory)\n",
    "    random.shuffle(image_list)  # Mengacak urutan daftar gambar\n",
    "    for j in image_list:\n",
    "        count+=1\n",
    "        if count > 4250:\n",
    "            break\n",
    "        img = cv2.imread(os.path.join(sub_directory,j),0)\n",
    "        img = cv2.resize(img,(img_size,img_size))\n",
    "        train_data.append([img,i])"
   ]
  },
  {
   "cell_type": "code",
   "execution_count": 3,
   "id": "4990cbed-1a84-4f8c-85dc-0cb2f0c96d41",
   "metadata": {},
   "outputs": [
    {
     "data": {
      "text/plain": [
       "148750"
      ]
     },
     "execution_count": 3,
     "metadata": {},
     "output_type": "execute_result"
    }
   ],
   "source": [
    "len(train_data)"
   ]
  },
  {
   "cell_type": "code",
   "execution_count": 5,
   "id": "b868983f-db35-448b-88f8-62ea1076706c",
   "metadata": {},
   "outputs": [],
   "source": [
    "val_dir = \"Validation/\"\n",
    "val_data = []\n",
    "img_size = 32\n",
    "for i in os.listdir(val_dir):\n",
    "    if i in non_chars:\n",
    "        continue\n",
    "    count = 0\n",
    "    sub_directory = os.path.join(val_dir,i)\n",
    "    image_list = os.listdir(sub_directory)\n",
    "    random.shuffle(image_list)  # Mengacak urutan daftar gambar\n",
    "    for j in image_list:\n",
    "        count+=1\n",
    "        if count > 2000 :\n",
    "            break\n",
    "        img = cv2.imread(os.path.join(sub_directory,j),0)\n",
    "        img = cv2.resize(img,(img_size,img_size))\n",
    "        val_data.append([img,i])"
   ]
  },
  {
   "cell_type": "code",
   "execution_count": 6,
   "id": "d6126480-dd34-4299-b3ab-610604b5ffc6",
   "metadata": {},
   "outputs": [
    {
     "data": {
      "text/plain": [
       "18104"
      ]
     },
     "execution_count": 6,
     "metadata": {},
     "output_type": "execute_result"
    }
   ],
   "source": [
    "len(val_data)"
   ]
  },
  {
   "cell_type": "code",
   "execution_count": 7,
   "id": "09fdf9af-8ef0-4975-9c61-b18bc46ea6c7",
   "metadata": {},
   "outputs": [],
   "source": [
    "random.shuffle(train_data)\n",
    "random.shuffle(val_data)"
   ]
  },
  {
   "cell_type": "code",
   "execution_count": 8,
   "id": "0db33c20-cfe0-4886-a7a3-4514b979bf14",
   "metadata": {},
   "outputs": [],
   "source": [
    "train_X = []\n",
    "train_Y = []\n",
    "for features,label in train_data:\n",
    "    train_X.append(features)\n",
    "    train_Y.append(label)"
   ]
  },
  {
   "cell_type": "code",
   "execution_count": 9,
   "id": "9212fcf6-02c1-4ced-a28d-81c863fb7237",
   "metadata": {},
   "outputs": [],
   "source": [
    "val_X = []\n",
    "val_Y = []\n",
    "for features,label in val_data:\n",
    "    val_X.append(features)\n",
    "    val_Y.append(label)"
   ]
  },
  {
   "cell_type": "code",
   "execution_count": 10,
   "id": "1ddfed41-55d9-437d-92bb-fc1104d97c82",
   "metadata": {},
   "outputs": [],
   "source": [
    "LB = LabelBinarizer()\n",
    "train_Y = LB.fit_transform(train_Y)\n",
    "val_Y = LB.fit_transform(val_Y)"
   ]
  },
  {
   "cell_type": "code",
   "execution_count": 11,
   "id": "1a161168-275f-49d0-a2ed-85957c67683f",
   "metadata": {},
   "outputs": [],
   "source": [
    "train_X = np.array(train_X)/255.0\n",
    "train_X = train_X.reshape(-1,32,32,1)\n",
    "train_Y = np.array(train_Y)"
   ]
  },
  {
   "cell_type": "code",
   "execution_count": 12,
   "id": "1a00452e-08ae-4f2e-a045-d64f1858121a",
   "metadata": {},
   "outputs": [],
   "source": [
    "val_X = np.array(val_X)/255.0\n",
    "val_X = val_X.reshape(-1,32,32,1)\n",
    "val_Y = np.array(val_Y)"
   ]
  },
  {
   "cell_type": "code",
   "execution_count": 13,
   "id": "5da4b563-f932-4514-99d1-c9c76b550258",
   "metadata": {},
   "outputs": [
    {
     "name": "stdout",
     "output_type": "stream",
     "text": [
      "(148750, 32, 32, 1) (18104, 32, 32, 1)\n"
     ]
    }
   ],
   "source": [
    "print(train_X.shape,val_X.shape)"
   ]
  },
  {
   "cell_type": "code",
   "execution_count": 14,
   "id": "c64af5f1-f148-4225-ada5-3958a392c7a9",
   "metadata": {},
   "outputs": [
    {
     "name": "stdout",
     "output_type": "stream",
     "text": [
      "(148750, 35) (18104, 35)\n"
     ]
    }
   ],
   "source": [
    "print(train_Y.shape,val_Y.shape)"
   ]
  },
  {
   "cell_type": "code",
   "execution_count": 15,
   "id": "c17dcabe-d9f0-4788-8acc-41e72ca84961",
   "metadata": {},
   "outputs": [],
   "source": [
    "model = Sequential()\n",
    "\n",
    "model.add(Conv2D(64, (3, 3), padding='same', activation='relu', input_shape=(32, 32, 1)))\n",
    "model.add(Conv2D(64, (3, 3), activation='relu'))\n",
    "model.add(MaxPooling2D(pool_size=(2, 2)))\n",
    "model.add(Dropout(0.25))\n",
    "\n",
    "model.add(Conv2D(128, (3, 3), padding='same', activation='relu'))\n",
    "model.add(Conv2D(128, (3, 3), activation='relu'))\n",
    "model.add(MaxPooling2D(pool_size=(2, 2)))\n",
    "model.add(Dropout(0.25))\n",
    "\n",
    "model.add(Flatten())\n",
    "model.add(Dense(256, activation='relu'))\n",
    "model.add(Dropout(0.5))\n",
    "model.add(Dense(128, activation='relu'))\n",
    "model.add(Dense(35, activation='softmax'))\n",
    "\n",
    "datagen = ImageDataGenerator(\n",
    "    rotation_range=10,\n",
    "    width_shift_range=0.1,\n",
    "    height_shift_range=0.1,\n",
    "    zoom_range=0.1\n",
    ")\n",
    "datagen.fit(train_X)"
   ]
  },
  {
   "cell_type": "code",
   "execution_count": 16,
   "id": "5365298f-73bb-4a25-b4fc-cdf98820a2f2",
   "metadata": {},
   "outputs": [
    {
     "name": "stdout",
     "output_type": "stream",
     "text": [
      "Model: \"sequential\"\n",
      "_________________________________________________________________\n",
      " Layer (type)                Output Shape              Param #   \n",
      "=================================================================\n",
      " conv2d (Conv2D)             (None, 32, 32, 64)        640       \n",
      "                                                                 \n",
      " conv2d_1 (Conv2D)           (None, 30, 30, 64)        36928     \n",
      "                                                                 \n",
      " max_pooling2d (MaxPooling2D  (None, 15, 15, 64)       0         \n",
      " )                                                               \n",
      "                                                                 \n",
      " dropout (Dropout)           (None, 15, 15, 64)        0         \n",
      "                                                                 \n",
      " conv2d_2 (Conv2D)           (None, 15, 15, 128)       73856     \n",
      "                                                                 \n",
      " conv2d_3 (Conv2D)           (None, 13, 13, 128)       147584    \n",
      "                                                                 \n",
      " max_pooling2d_1 (MaxPooling  (None, 6, 6, 128)        0         \n",
      " 2D)                                                             \n",
      "                                                                 \n",
      " dropout_1 (Dropout)         (None, 6, 6, 128)         0         \n",
      "                                                                 \n",
      " flatten (Flatten)           (None, 4608)              0         \n",
      "                                                                 \n",
      " dense (Dense)               (None, 256)               1179904   \n",
      "                                                                 \n",
      " dropout_2 (Dropout)         (None, 256)               0         \n",
      "                                                                 \n",
      " dense_1 (Dense)             (None, 128)               32896     \n",
      "                                                                 \n",
      " dense_2 (Dense)             (None, 35)                4515      \n",
      "                                                                 \n",
      "=================================================================\n",
      "Total params: 1,476,323\n",
      "Trainable params: 1,476,323\n",
      "Non-trainable params: 0\n",
      "_________________________________________________________________\n"
     ]
    }
   ],
   "source": [
    "model.summary()"
   ]
  },
  {
   "cell_type": "code",
   "execution_count": 17,
   "id": "02f0d5be-b110-4102-8a83-aab1181f1dbc",
   "metadata": {},
   "outputs": [],
   "source": [
    "model.compile(loss='categorical_crossentropy', optimizer=\"adam\",metrics=['accuracy'])"
   ]
  },
  {
   "cell_type": "code",
   "execution_count": 18,
   "id": "2dbd852d-713b-48e5-8102-f728025391f5",
   "metadata": {},
   "outputs": [
    {
     "name": "stdout",
     "output_type": "stream",
     "text": [
      "Epoch 1/25\n",
      "4648/4648 [==============================] - 500s 107ms/step - loss: 0.8792 - accuracy: 0.7236 - val_loss: 0.3282 - val_accuracy: 0.8857\n",
      "Epoch 2/25\n",
      "4648/4648 [==============================] - 509s 109ms/step - loss: 0.4866 - accuracy: 0.8399 - val_loss: 0.2949 - val_accuracy: 0.8845\n",
      "Epoch 3/25\n",
      "4648/4648 [==============================] - 509s 110ms/step - loss: 0.4240 - accuracy: 0.8604 - val_loss: 0.2508 - val_accuracy: 0.9183\n",
      "Epoch 4/25\n",
      "4648/4648 [==============================] - 508s 109ms/step - loss: 0.3945 - accuracy: 0.8701 - val_loss: 0.3108 - val_accuracy: 0.9009\n",
      "Epoch 5/25\n",
      "4648/4648 [==============================] - 512s 110ms/step - loss: 0.3715 - accuracy: 0.8765 - val_loss: 0.2932 - val_accuracy: 0.8929\n",
      "Epoch 6/25\n",
      "4648/4648 [==============================] - 495s 106ms/step - loss: 0.3600 - accuracy: 0.8803 - val_loss: 0.3238 - val_accuracy: 0.8667\n",
      "Epoch 7/25\n",
      "4648/4648 [==============================] - 450s 97ms/step - loss: 0.3496 - accuracy: 0.8832 - val_loss: 0.2602 - val_accuracy: 0.9055\n",
      "Epoch 8/25\n",
      "4648/4648 [==============================] - 440s 95ms/step - loss: 0.3415 - accuracy: 0.8857 - val_loss: 0.2957 - val_accuracy: 0.8761\n",
      "Epoch 9/25\n",
      "4648/4648 [==============================] - 439s 94ms/step - loss: 0.3354 - accuracy: 0.8872 - val_loss: 0.2563 - val_accuracy: 0.8983\n",
      "Epoch 10/25\n",
      "4648/4648 [==============================] - 441s 95ms/step - loss: 0.3345 - accuracy: 0.8882 - val_loss: 0.2592 - val_accuracy: 0.9051\n",
      "Epoch 11/25\n",
      "4648/4648 [==============================] - 439s 94ms/step - loss: 0.3282 - accuracy: 0.8895 - val_loss: 0.2688 - val_accuracy: 0.9029\n",
      "Epoch 12/25\n",
      "4648/4648 [==============================] - 438s 94ms/step - loss: 0.3224 - accuracy: 0.8919 - val_loss: 0.3164 - val_accuracy: 0.8656\n",
      "Epoch 13/25\n",
      "4648/4648 [==============================] - 435s 94ms/step - loss: 0.3238 - accuracy: 0.8898 - val_loss: 0.2491 - val_accuracy: 0.9075\n",
      "Epoch 14/25\n",
      "4648/4648 [==============================] - 435s 94ms/step - loss: 0.3209 - accuracy: 0.8921 - val_loss: 0.2886 - val_accuracy: 0.8951\n",
      "Epoch 15/25\n",
      "4648/4648 [==============================] - 436s 94ms/step - loss: 0.3195 - accuracy: 0.8925 - val_loss: 0.3239 - val_accuracy: 0.8686\n",
      "Epoch 16/25\n",
      "4648/4648 [==============================] - 435s 93ms/step - loss: 0.3164 - accuracy: 0.8945 - val_loss: 0.2424 - val_accuracy: 0.9104\n",
      "Epoch 17/25\n",
      "4648/4648 [==============================] - 435s 94ms/step - loss: 0.3157 - accuracy: 0.8945 - val_loss: 0.2756 - val_accuracy: 0.9042\n",
      "Epoch 18/25\n",
      "4648/4648 [==============================] - 436s 94ms/step - loss: 0.3176 - accuracy: 0.8940 - val_loss: 0.3478 - val_accuracy: 0.8495\n",
      "Epoch 19/25\n",
      "4648/4648 [==============================] - 464s 100ms/step - loss: 0.3140 - accuracy: 0.8943 - val_loss: 0.3286 - val_accuracy: 0.8568\n",
      "Epoch 20/25\n",
      "4648/4648 [==============================] - 466s 100ms/step - loss: 0.3115 - accuracy: 0.8958 - val_loss: 0.3435 - val_accuracy: 0.8637\n",
      "Epoch 21/25\n",
      "4648/4648 [==============================] - 475s 102ms/step - loss: 0.3123 - accuracy: 0.8954 - val_loss: 0.3414 - val_accuracy: 0.8567\n",
      "Epoch 22/25\n",
      "4648/4648 [==============================] - 479s 103ms/step - loss: 0.3151 - accuracy: 0.8951 - val_loss: 0.2858 - val_accuracy: 0.8731\n",
      "Epoch 23/25\n",
      "4648/4648 [==============================] - 479s 103ms/step - loss: 0.3102 - accuracy: 0.8957 - val_loss: 0.2897 - val_accuracy: 0.8939\n",
      "Epoch 24/25\n",
      "4648/4648 [==============================] - 470s 101ms/step - loss: 0.3102 - accuracy: 0.8956 - val_loss: 0.2797 - val_accuracy: 0.8976\n",
      "Epoch 25/25\n",
      "4648/4648 [==============================] - 446s 96ms/step - loss: 0.3111 - accuracy: 0.8959 - val_loss: 0.3007 - val_accuracy: 0.8774\n"
     ]
    }
   ],
   "source": [
    "history = model.fit(\n",
    "    datagen.flow(train_X, train_Y, batch_size=32),\n",
    "    steps_per_epoch=len(train_X) // 32,\n",
    "    epochs= 25,\n",
    "    validation_data=(val_X, val_Y),\n",
    "    verbose=1\n",
    ")"
   ]
  },
  {
   "cell_type": "code",
   "execution_count": 19,
   "id": "bdc52be2-eac5-411f-885b-4c4c224ae960",
   "metadata": {},
   "outputs": [
    {
     "data": {
      "image/png": "[encoded data removed]",
      "text/plain": [
       "<Figure size 640x480 with 1 Axes>"
      ]
     },
     "metadata": {},
     "output_type": "display_data"
    }
   ],
   "source": [
    "plt.plot(history.history['accuracy'])\n",
    "plt.plot(history.history['val_accuracy'])\n",
    "plt.title('Training Accuracy vs Validation Accuracy')\n",
    "plt.ylabel('Accuracy')\n",
    "plt.xlabel('Epoch')\n",
    "plt.legend(['Train', 'Validation'], loc='upper left')\n",
    "plt.show()"
   ]
  },
  {
   "cell_type": "code",
   "execution_count": 20,
   "id": "efcefb1e-3373-4c82-b5ba-b930c1fbff9e",
   "metadata": {},
   "outputs": [
    {
     "data": {
      "image/png": "[encoded data removed]",
      "text/plain": [
       "<Figure size 640x480 with 1 Axes>"
      ]
     },
     "metadata": {},
     "output_type": "display_data"
    }
   ],
   "source": [
    "plt.plot(history.history['loss'])\n",
    "plt.plot(history.history['val_loss'])\n",
    "plt.title('Training Loss vs Validation Loss')\n",
    "plt.ylabel('Loss')\n",
    "plt.xlabel('Epoch')\n",
    "plt.legend(['Train', 'Validation'], loc='upper left')\n",
    "plt.show()"
   ]
  },
  {
   "cell_type": "code",
   "execution_count": 21,
   "id": "f85e46a0-dcc7-4ad0-97bb-84fad5a30e13",
   "metadata": {},
   "outputs": [],
   "source": [
    "model.save(\"model3.h5\")"
   ]
  },
  {
   "cell_type": "code",
   "execution_count": 22,
   "id": "5c6aa408-b20b-4157-a0d4-de6f42729d31",
   "metadata": {},
   "outputs": [
    {
     "name": "stderr",
     "output_type": "stream",
     "text": [
      "WARNING:absl:Found untraced functions such as _jit_compiled_convolution_op, _jit_compiled_convolution_op, _jit_compiled_convolution_op, _jit_compiled_convolution_op, _update_step_xla while saving (showing 5 of 5). These functions will not be directly callable after loading.\n"
     ]
    },
    {
     "name": "stdout",
     "output_type": "stream",
     "text": [
      "INFO:tensorflow:Assets written to: model3.json\\assets\n"
     ]
    },
    {
     "name": "stderr",
     "output_type": "stream",
     "text": [
      "INFO:tensorflow:Assets written to: model3.json\\assets\n"
     ]
    }
   ],
   "source": [
    "model.save(\"model3.json\")"
   ]
  },
  {
   "cell_type": "code",
   "execution_count": 23,
   "id": "83089a6d-f37e-4dcf-bd67-84a898dc28e0",
   "metadata": {},
   "outputs": [
    {
     "name": "stderr",
     "output_type": "stream",
     "text": [
      "WARNING:absl:Found untraced functions such as _jit_compiled_convolution_op, _jit_compiled_convolution_op, _jit_compiled_convolution_op, _jit_compiled_convolution_op, _update_step_xla while saving (showing 5 of 5). These functions will not be directly callable after loading.\n"
     ]
    },
    {
     "name": "stdout",
     "output_type": "stream",
     "text": [
      "INFO:tensorflow:Assets written to: model3.pb\\assets\n"
     ]
    },
    {
     "name": "stderr",
     "output_type": "stream",
     "text": [
      "INFO:tensorflow:Assets written to: model3.pb\\assets\n"
     ]
    }
   ],
   "source": [
    "model.save(\"model3.pb\")"
   ]
  },
  {
   "cell_type": "code",
   "execution_count": 24,
   "id": "11eecaa7-5de6-4dbe-851d-cf3a8295d08a",
   "metadata": {},
   "outputs": [
    {
     "name": "stderr",
     "output_type": "stream",
     "text": [
      "WARNING:absl:Found untraced functions such as _jit_compiled_convolution_op, _jit_compiled_convolution_op, _jit_compiled_convolution_op, _jit_compiled_convolution_op, _update_step_xla while saving (showing 5 of 5). These functions will not be directly callable after loading.\n"
     ]
    },
    {
     "name": "stdout",
     "output_type": "stream",
     "text": [
      "INFO:tensorflow:Assets written to: C:\\Users\\User\\AppData\\Local\\Temp\\tmpr4byft51\\assets\n"
     ]
    },
    {
     "name": "stderr",
     "output_type": "stream",
     "text": [
      "INFO:tensorflow:Assets written to: C:\\Users\\User\\AppData\\Local\\Temp\\tmpr4byft51\\assets\n"
     ]
    }
   ],
   "source": [
    "# Convert the model to TensorFlow Lite format\n",
    "import tensorflow as tf\n",
    "converter = tf.lite.TFLiteConverter.from_keras_model(model)\n",
    "tflite_model = converter.convert()\n",
    "# Save the TensorFlow Lite model\n",
    "with open('model3.tflite', 'wb') as f:\n",
    "    f.write(tflite_model)"
   ]
  },
  {
   "cell_type": "code",
   "execution_count": 42,
   "id": "d69dc2a0-afa9-4c2f-8251-31a0e35337b3",
   "metadata": {},
   "outputs": [],
   "source": [
    "def sort_contours(cnts, method=\"left-to-right\"):\n",
    "    reverse = False\n",
    "    i = 0\n",
    "    if method == \"right-to-left\" or method == \"bottom-to-top\":\n",
    "        reverse = True\n",
    "    if method == \"top-to-bottom\" or method == \"bottom-to-top\":\n",
    "        i = 1\n",
    "    boundingBoxes = [cv2.boundingRect(c) for c in cnts]\n",
    "    (cnts, boundingBoxes) = zip(*sorted(zip(cnts, boundingBoxes),\n",
    "    key=lambda b:b[1][i], reverse=reverse))\n",
    "    # return the list of sorted contours and bounding boxes\n",
    "    return (cnts, boundingBoxes)"
   ]
  },
  {
   "cell_type": "code",
   "execution_count": 43,
   "id": "d9e7568d-4333-431e-bfc9-2199978bffe7",
   "metadata": {},
   "outputs": [],
   "source": [
    "def get_letters(img):\n",
    "    letters = []\n",
    "    image = cv2.imread(img)\n",
    "    gray = cv2.cvtColor(image, cv2.COLOR_BGR2GRAY)\n",
    "    ret,thresh1 = cv2.threshold(gray ,127,255,cv2.THRESH_BINARY_INV)\n",
    "    dilated = cv2.dilate(thresh1, None, iterations=2)\n",
    "\n",
    "    cnts = cv2.findContours(dilated.copy(), cv2.RETR_EXTERNAL,cv2.CHAIN_APPROX_SIMPLE)\n",
    "    cnts = imutils.grab_contours(cnts)\n",
    "    cnts = sort_contours(cnts, method=\"left-to-right\")[0]\n",
    "    # loop over the contours\n",
    "    for c in cnts:\n",
    "        if cv2.contourArea(c) > 10:\n",
    "            (x, y, w, h) = cv2.boundingRect(c)\n",
    "            cv2.rectangle(image, (x, y), (x + w, y + h), (0, 255, 0), 2)\n",
    "        roi = gray[y:y + h, x:x + w]\n",
    "        thresh = cv2.threshold(roi, 0, 255,cv2.THRESH_BINARY_INV | cv2.THRESH_OTSU)[1]\n",
    "        thresh = cv2.resize(thresh, (32, 32), interpolation = cv2.INTER_CUBIC)\n",
    "        thresh = thresh.astype(\"float32\") / 255.0\n",
    "        thresh = np.expand_dims(thresh, axis=-1)\n",
    "        thresh = thresh.reshape(1,32,32,1)\n",
    "        ypred = model.predict(thresh)\n",
    "        ypred = LB.inverse_transform(ypred)\n",
    "        [x] = ypred\n",
    "        letters.append(x)\n",
    "    return letters, image"
   ]
  },
  {
   "cell_type": "code",
   "execution_count": 44,
   "id": "f979866f-a047-4f4c-bf7d-9d789ea37745",
   "metadata": {},
   "outputs": [],
   "source": [
    "def get_word(letter):\n",
    "    word = \"\".join(letter)\n",
    "    return word"
   ]
  },
  {
   "cell_type": "code",
   "execution_count": 59,
   "id": "b40c04c2-11cd-4a75-ba09-85ad466c7787",
   "metadata": {},
   "outputs": [
    {
     "name": "stdout",
     "output_type": "stream",
     "text": [
      "1/1 [==============================] - 0s 24ms/step\n",
      "1/1 [==============================] - 0s 26ms/step\n",
      "1/1 [==============================] - 0s 24ms/step\n",
      "1/1 [==============================] - 0s 25ms/step\n",
      "1/1 [==============================] - 0s 26ms/step\n",
      "1/1 [==============================] - 0s 25ms/step\n",
      "1/1 [==============================] - 0s 24ms/step\n",
      "JAFFEUX\n"
     ]
    },
    {
     "data": {
      "text/plain": [
       "<matplotlib.image.AxesImage at 0x1ede33e6610>"
      ]
     },
     "execution_count": 59,
     "metadata": {},
     "output_type": "execute_result"
    },
    {
     "data": {
      "image/png": "[encoded data removed]",
      "text/plain": [
       "<Figure size 640x480 with 1 Axes>"
      ]
     },
     "metadata": {},
     "output_type": "display_data"
    }
   ],
   "source": [
    "letter,image = get_letters(\"archive/train_v2/train/TRAIN_00030.jpg\")\n",
    "word = get_word(letter)\n",
    "print(word)\n",
    "plt.imshow(image)"
   ]
  },
  {
   "cell_type": "code",
   "execution_count": 55,
   "id": "c7215c75-d5e2-41c4-8a7c-805cf021d611",
   "metadata": {},
   "outputs": [
    {
     "name": "stdout",
     "output_type": "stream",
     "text": [
      "1/1 [==============================] - 0s 21ms/step\n",
      "1/1 [==============================] - 0s 23ms/step\n",
      "1/1 [==============================] - 0s 22ms/step\n",
      "1/1 [==============================] - 0s 23ms/step\n",
      "1/1 [==============================] - 0s 19ms/step\n",
      "BEWE5\n"
     ]
    },
    {
     "data": {
      "text/plain": [
       "<matplotlib.image.AxesImage at 0x25d5a75e750>"
      ]
     },
     "execution_count": 55,
     "metadata": {},
     "output_type": "execute_result"
    },
    {
     "data": {
      "image/png": "[encoded data removed]",
      "text/plain": [
       "<Figure size 640x480 with 1 Axes>"
      ]
     },
     "metadata": {},
     "output_type": "display_data"
    }
   ],
   "source": [
    "letter,image = get_letters(\"archive/train_v2/train/TRAIN_00003.jpg\")\n",
    "word = get_word(letter)\n",
    "print(word)\n",
    "plt.imshow(image)"
   ]
  },
  {
   "cell_type": "code",
   "execution_count": null,
   "id": "76921406-f6b5-4abb-84a4-bf44d28173a7",
   "metadata": {},
   "outputs": [],
   "source": []
  }
 ],
 "metadata": {
  "kernelspec": {
   "display_name": "Python 3 (ipykernel)",
   "language": "python",
   "name": "python3"
  },
  "language_info": {
   "codemirror_mode": {
    "name": "ipython",
    "version": 3
   },
   "file_extension": ".py",
   "mimetype": "text/x-python",
   "name": "python",
   "nbconvert_exporter": "python",
   "pygments_lexer": "ipython3",
   "version": "3.11.3"
  }
 },
 "nbformat": 4,
 "nbformat_minor": 5
}
